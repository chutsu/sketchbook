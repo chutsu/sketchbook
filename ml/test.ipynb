{
  "nbformat": 4,
  "nbformat_minor": 0,
  "metadata": {
    "colab": {
      "provenance": [],
      "authorship_tag": "ABX9TyN9EGCq9nIun1yH7RKOv2z+",
      "include_colab_link": true
    },
    "kernelspec": {
      "name": "python3",
      "display_name": "Python 3"
    },
    "language_info": {
      "name": "python"
    }
  },
  "cells": [
    {
      "cell_type": "markdown",
      "metadata": {
        "id": "view-in-github",
        "colab_type": "text"
      },
      "source": [
        "<a href=\"https://colab.research.google.com/github/chutsu/sketchbook/blob/master/ml/test.ipynb\" target=\"_parent\"><img src=\"https://colab.research.google.com/assets/colab-badge.svg\" alt=\"Open In Colab\"/></a>"
      ]
    },
    {
      "cell_type": "code",
      "execution_count": null,
      "metadata": {
        "id": "HU09_iU6JPgl"
      },
      "outputs": [],
      "source": []
    },
    {
      "cell_type": "markdown",
      "source": [
        "# Linear Discriminant Analysis (LDA)\n",
        "\n",
        "\\begin{align}\n",
        "  P(y = k | x)\n",
        "    &= \\dfrac{P(x | y = k) \\; P(y = k)}{P(x)} \\\\\n",
        "    &= \\dfrac{\n",
        "      P(x | y = k) \\; P(y = k)\n",
        "    }\n",
        "    {\n",
        "      \\sum_{l} P(x | y = l) P(y = l)\n",
        "    }\n",
        "\\end{align}\n",
        "\n",
        "\\begin{align}\n",
        "  P(x | y = k) =\n",
        "    \\dfrac{\n",
        "      1\n",
        "    }{\n",
        "      (2 \\pi)^{d/2} \\;\n",
        "      |\\Sigma|^{\\frac{1}{2}}\n",
        "    }\n",
        "    \\exp\n",
        "    \\left(\n",
        "      -\\dfrac{1}{2}\n",
        "      (x - \\mu_{k})^{T}\n",
        "      \\Sigma^{-1}_{k}\n",
        "      (x - \\mu_{k})\n",
        "    \\right)\n",
        "\\end{align}\n",
        "\n",
        "\\begin{align}\n",
        "  \\log\n",
        "    \\left(\n",
        "      P(y = k | x)\n",
        "    \\right)\n",
        "  &=\n",
        "  \\log\n",
        "    \\left(\n",
        "      \\dfrac{P(x | y = k) \\; P(y = k)}{P(x)}\n",
        "    \\right)\n",
        "  \\\\\n",
        "  &=\n",
        "  \\log\n",
        "    \\left(\n",
        "      P(x | y = k)\n",
        "    \\right)\n",
        "  +\n",
        "  \\log\n",
        "    \\left(\n",
        "      P(y = k)\n",
        "    \\right)\n",
        "  -\n",
        "  \\log\n",
        "    \\left(\n",
        "      P(x)\n",
        "    \\right)\n",
        "\\end{align}\n"
      ],
      "metadata": {
        "id": "rVBbelVIJnGy"
      }
    }
  ]
}